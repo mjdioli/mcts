{
 "cells": [
  {
   "cell_type": "code",
   "execution_count": 1,
   "metadata": {},
   "outputs": [],
   "source": [
    "from mcts_borrowed import MCTS\n",
    "from utt2 import UTTNode\n",
    "from tqdm import tqdm"
   ]
  },
  {
   "cell_type": "code",
   "execution_count": 2,
   "metadata": {},
   "outputs": [],
   "source": [
    "X = MCTS(1, 1)\n",
    "O = MCTS(1,-1, \"norm\")"
   ]
  },
  {
   "cell_type": "code",
   "execution_count": 3,
   "metadata": {},
   "outputs": [],
   "source": [
    "def play_game(x, o):\n",
    "    board = UTTNode(current_player=1)\n",
    "    #while not board.is_terminal():\n",
    "    for i in range(100):\n",
    "        # You can train as you go, or only at the beginning.\n",
    "        # Here, we train as we go, doing fifty rollouts each turn.\n",
    "        x.do_rollout(board)\n",
    "        board = x.choose(board)\n",
    "        if board.is_terminal():\n",
    "            #print(board)\n",
    "            break\n",
    "        o.do_rollout(board)\n",
    "        board = o.choose(board)\n",
    "        if board.is_terminal():\n",
    "            #print(board)\n",
    "            break\n",
    "    return board.reward()\n",
    "    \n",
    "    #print(board)\n",
    "        \n",
    "    #print(board)"
   ]
  },
  {
   "cell_type": "code",
   "execution_count": null,
   "metadata": {},
   "outputs": [],
   "source": []
  },
  {
   "cell_type": "code",
   "execution_count": 4,
   "metadata": {},
   "outputs": [
    {
     "name": "stderr",
     "output_type": "stream",
     "text": [
      " 12%|█▏        | 6/50 [00:51<06:11,  8.44s/it]"
     ]
    },
    {
     "ename": "Error",
     "evalue": "Canceled future for execute_request message before replies were done",
     "output_type": "error",
     "traceback": [
      "Error: Canceled future for execute_request message before replies were done",
      "at t.KernelShellFutureHandler.dispose (c:\\Users\\mariu\\.vscode\\extensions\\ms-toolsai.jupyter-2022.3.1000901801\\out\\extension.js:2:1204175)",
      "at c:\\Users\\mariu\\.vscode\\extensions\\ms-toolsai.jupyter-2022.3.1000901801\\out\\extension.js:2:1223227",
      "at Map.forEach (<anonymous>)",
      "at v._clearKernelState (c:\\Users\\mariu\\.vscode\\extensions\\ms-toolsai.jupyter-2022.3.1000901801\\out\\extension.js:2:1223212)",
      "at v.dispose (c:\\Users\\mariu\\.vscode\\extensions\\ms-toolsai.jupyter-2022.3.1000901801\\out\\extension.js:2:1216694)",
      "at c:\\Users\\mariu\\.vscode\\extensions\\ms-toolsai.jupyter-2022.3.1000901801\\out\\extension.js:2:533674",
      "at t.swallowExceptions (c:\\Users\\mariu\\.vscode\\extensions\\ms-toolsai.jupyter-2022.3.1000901801\\out\\extension.js:2:913059)",
      "at dispose (c:\\Users\\mariu\\.vscode\\extensions\\ms-toolsai.jupyter-2022.3.1000901801\\out\\extension.js:2:533652)",
      "at t.RawSession.dispose (c:\\Users\\mariu\\.vscode\\extensions\\ms-toolsai.jupyter-2022.3.1000901801\\out\\extension.js:2:537330)",
      "at runMicrotasks (<anonymous>)",
      "at processTicksAndRejections (node:internal/process/task_queues:96:5)"
     ]
    }
   ],
   "source": [
    "results = {\"X\": 0, \"O\": 0, \"Tie\": 0}\n",
    "for i in tqdm(range(50)):\n",
    "    result = play_game(X, O)\n",
    "    #print(\"max: \", max(X.Q.values()), \"\\n\",\n",
    "    #\"min: \", min(X.Q.values()))\n",
    "    if result ==1:\n",
    "        results[\"X\"] +=1\n",
    "    elif result == -1:\n",
    "        results[\"O\"] += 1\n",
    "    else:\n",
    "        results[\"Tie\"]+=1"
   ]
  },
  {
   "cell_type": "code",
   "execution_count": null,
   "metadata": {},
   "outputs": [
    {
     "name": "stdout",
     "output_type": "stream",
     "text": [
      "{'X': 32, 'O': 6, 'Tie': 12}\n"
     ]
    }
   ],
   "source": [
    "print(results)\n",
    "#Play against random moves\n",
    "#X-axis is games played and  y axis is average return versus random opponent"
   ]
  }
 ],
 "metadata": {
  "interpreter": {
   "hash": "eae8805b7a60ca00ec391bf13e71294753b9bf81b6b5d55c56d2d16aa9c3e739"
  },
  "kernelspec": {
   "display_name": "Python 3.9.6 64-bit",
   "language": "python",
   "name": "python3"
  },
  "language_info": {
   "codemirror_mode": {
    "name": "ipython",
    "version": 3
   },
   "file_extension": ".py",
   "mimetype": "text/x-python",
   "name": "python",
   "nbconvert_exporter": "python",
   "pygments_lexer": "ipython3",
   "version": "3.9.6"
  },
  "orig_nbformat": 4
 },
 "nbformat": 4,
 "nbformat_minor": 2
}
