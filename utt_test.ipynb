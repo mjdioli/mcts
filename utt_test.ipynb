{
 "cells": [
  {
   "cell_type": "code",
   "execution_count": 1,
   "metadata": {},
   "outputs": [],
   "source": [
    "import numpy as np\n",
    "a = [i for i in range(9)]"
   ]
  },
  {
   "cell_type": "code",
   "execution_count": 2,
   "metadata": {},
   "outputs": [
    {
     "data": {
      "text/plain": [
       "[(1, 4), (2, 5), (3, 6)]"
      ]
     },
     "execution_count": 2,
     "metadata": {},
     "output_type": "execute_result"
    }
   ],
   "source": [
    "[(a,b) for a,b in zip([1,2,3], [4,5,6])]"
   ]
  },
  {
   "cell_type": "code",
   "execution_count": 1,
   "metadata": {},
   "outputs": [
    {
     "name": "stdout",
     "output_type": "stream",
     "text": [
      "_ _ _  _ _ _  _ _ _\n",
      "_ _ _  _ _ _  _ _ _\n",
      "_ _ _  _ _ _  _ _ _\n",
      "\n",
      "_ _ _  _ _ _  _ _ _\n",
      "_ _ _  _ _ _  _ _ _\n",
      "_ _ _  _ _ _  _ _ _\n",
      "\n",
      "_ _ _  _ _ _  _ _ _\n",
      "_ _ _  _ _ _  _ _ _\n",
      "_ _ _  _ _ _  _ _ _\n"
     ]
    }
   ],
   "source": [
    "from ultimate_tictactoe import UltimateTicTacToe\n",
    "\n",
    "ttt = UltimateTicTacToe()\n",
    "print(str(ttt))"
   ]
  },
  {
   "cell_type": "code",
   "execution_count": 4,
   "metadata": {},
   "outputs": [
    {
     "name": "stdout",
     "output_type": "stream",
     "text": [
      "123\n"
     ]
    }
   ],
   "source": [
    "a = [\"1\",\"2\",\"3\"]\n",
    "print(\"\".join(a[0:3]))"
   ]
  },
  {
   "cell_type": "code",
   "execution_count": 1,
   "metadata": {},
   "outputs": [],
   "source": [
    "from utt2 import UTTNode\n",
    "node = UTTNode()\n"
   ]
  },
  {
   "cell_type": "code",
   "execution_count": 2,
   "metadata": {},
   "outputs": [
    {
     "data": {
      "text/plain": [
       "[(0, 0),\n",
       " (0, 1),\n",
       " (0, 2),\n",
       " (0, 3),\n",
       " (0, 4),\n",
       " (0, 5),\n",
       " (0, 6),\n",
       " (0, 7),\n",
       " (0, 8),\n",
       " (1, 0),\n",
       " (1, 1),\n",
       " (1, 2),\n",
       " (1, 3),\n",
       " (1, 4),\n",
       " (1, 5),\n",
       " (1, 6),\n",
       " (1, 7),\n",
       " (1, 8),\n",
       " (2, 0),\n",
       " (2, 1),\n",
       " (2, 2),\n",
       " (2, 3),\n",
       " (2, 4),\n",
       " (2, 5),\n",
       " (2, 6),\n",
       " (2, 7),\n",
       " (2, 8),\n",
       " (3, 0),\n",
       " (3, 1),\n",
       " (3, 2),\n",
       " (3, 3),\n",
       " (3, 4),\n",
       " (3, 5),\n",
       " (3, 6),\n",
       " (3, 7),\n",
       " (3, 8),\n",
       " (4, 0),\n",
       " (4, 1),\n",
       " (4, 2),\n",
       " (4, 3),\n",
       " (4, 4),\n",
       " (4, 5),\n",
       " (4, 6),\n",
       " (4, 7),\n",
       " (4, 8),\n",
       " (5, 0),\n",
       " (5, 1),\n",
       " (5, 2),\n",
       " (5, 3),\n",
       " (5, 4),\n",
       " (5, 5),\n",
       " (5, 6),\n",
       " (5, 7),\n",
       " (5, 8),\n",
       " (6, 0),\n",
       " (6, 1),\n",
       " (6, 2),\n",
       " (6, 3),\n",
       " (6, 4),\n",
       " (6, 5),\n",
       " (6, 6),\n",
       " (6, 7),\n",
       " (6, 8),\n",
       " (7, 0),\n",
       " (7, 1),\n",
       " (7, 2),\n",
       " (7, 3),\n",
       " (7, 4),\n",
       " (7, 5),\n",
       " (7, 6),\n",
       " (7, 7),\n",
       " (7, 8),\n",
       " (8, 0),\n",
       " (8, 1),\n",
       " (8, 2),\n",
       " (8, 3),\n",
       " (8, 4),\n",
       " (8, 5),\n",
       " (8, 6),\n",
       " (8, 7),\n",
       " (8, 8)]"
      ]
     },
     "execution_count": 2,
     "metadata": {},
     "output_type": "execute_result"
    }
   ],
   "source": [
    "node.legal_moves()"
   ]
  },
  {
   "cell_type": "code",
   "execution_count": 70,
   "metadata": {},
   "outputs": [
    {
     "name": "stdout",
     "output_type": "stream",
     "text": [
      "_ _ o  _ _ _  o o x\n",
      "_ _ x  o o x  o o _\n",
      "o o _  o x o  _ o _\n",
      "\n",
      "x _ x  x _ _  o x x\n",
      "x o x  x _ x  o _ _\n",
      "o _ x  x _ _  o _ _\n",
      "\n",
      "x x _  _ _ o  _ x x\n",
      "o x _  x _ _  o o o\n",
      "_ x x  o _ _  _ _ _\n",
      "\n",
      "\n"
     ]
    },
    {
     "ename": "NotImplementedError",
     "evalue": "LOLOLOL",
     "output_type": "error",
     "traceback": [
      "\u001b[1;31m---------------------------------------------------------------------------\u001b[0m",
      "\u001b[1;31mNotImplementedError\u001b[0m                       Traceback (most recent call last)",
      "\u001b[1;32m~\\AppData\\Local\\Temp/ipykernel_24700/4080119927.py\u001b[0m in \u001b[0;36m<module>\u001b[1;34m\u001b[0m\n\u001b[0;32m      2\u001b[0m \u001b[0mnew_node\u001b[0m \u001b[1;33m=\u001b[0m \u001b[0mnode\u001b[0m\u001b[1;33m.\u001b[0m\u001b[0mcopy\u001b[0m\u001b[1;33m(\u001b[0m\u001b[1;33m)\u001b[0m\u001b[1;33m\u001b[0m\u001b[1;33m\u001b[0m\u001b[0m\n\u001b[0;32m      3\u001b[0m \u001b[1;32mfor\u001b[0m \u001b[0mi\u001b[0m \u001b[1;32min\u001b[0m \u001b[0mrange\u001b[0m\u001b[1;33m(\u001b[0m\u001b[1;36m400\u001b[0m\u001b[1;33m)\u001b[0m\u001b[1;33m:\u001b[0m\u001b[1;33m\u001b[0m\u001b[1;33m\u001b[0m\u001b[0m\n\u001b[1;32m----> 4\u001b[1;33m     \u001b[0mnew_node\u001b[0m \u001b[1;33m=\u001b[0m \u001b[0mnew_node\u001b[0m\u001b[1;33m.\u001b[0m\u001b[0mfind_random_child\u001b[0m\u001b[1;33m(\u001b[0m\u001b[1;33m)\u001b[0m\u001b[1;33m\u001b[0m\u001b[1;33m\u001b[0m\u001b[0m\n\u001b[0m\u001b[0;32m      5\u001b[0m     \u001b[0mnodes\u001b[0m\u001b[1;33m.\u001b[0m\u001b[0mappend\u001b[0m\u001b[1;33m(\u001b[0m\u001b[0mnew_node\u001b[0m\u001b[1;33m)\u001b[0m\u001b[1;33m\u001b[0m\u001b[1;33m\u001b[0m\u001b[0m\n",
      "\u001b[1;32mc:\\Users\\mariu\\mcts\\utt2.py\u001b[0m in \u001b[0;36mfind_random_child\u001b[1;34m(self)\u001b[0m\n\u001b[0;32m    111\u001b[0m         \u001b[1;32mif\u001b[0m \u001b[0mlen\u001b[0m\u001b[1;33m(\u001b[0m\u001b[0mchildren\u001b[0m\u001b[1;33m)\u001b[0m\u001b[1;33m==\u001b[0m\u001b[1;36m0\u001b[0m\u001b[1;33m:\u001b[0m\u001b[1;33m\u001b[0m\u001b[1;33m\u001b[0m\u001b[0m\n\u001b[0;32m    112\u001b[0m             \u001b[0mprint\u001b[0m\u001b[1;33m(\u001b[0m\u001b[0mstr\u001b[0m\u001b[1;33m(\u001b[0m\u001b[0mself\u001b[0m\u001b[1;33m.\u001b[0m\u001b[0m__str__\u001b[0m\u001b[1;33m(\u001b[0m\u001b[1;33m)\u001b[0m\u001b[1;33m)\u001b[0m\u001b[1;33m)\u001b[0m\u001b[1;33m\u001b[0m\u001b[1;33m\u001b[0m\u001b[0m\n\u001b[1;32m--> 113\u001b[1;33m             \u001b[1;32mraise\u001b[0m \u001b[0mNotImplementedError\u001b[0m\u001b[1;33m(\u001b[0m\u001b[1;34m\"LOLOLOL\"\u001b[0m\u001b[1;33m)\u001b[0m\u001b[1;33m\u001b[0m\u001b[1;33m\u001b[0m\u001b[0m\n\u001b[0m\u001b[0;32m    114\u001b[0m         \u001b[1;32melse\u001b[0m\u001b[1;33m:\u001b[0m\u001b[1;33m\u001b[0m\u001b[1;33m\u001b[0m\u001b[0m\n\u001b[0;32m    115\u001b[0m             \u001b[1;32mreturn\u001b[0m \u001b[0mnp\u001b[0m\u001b[1;33m.\u001b[0m\u001b[0mrandom\u001b[0m\u001b[1;33m.\u001b[0m\u001b[0mchoice\u001b[0m\u001b[1;33m(\u001b[0m\u001b[0mchildren\u001b[0m\u001b[1;33m)\u001b[0m\u001b[1;33m\u001b[0m\u001b[1;33m\u001b[0m\u001b[0m\n",
      "\u001b[1;31mNotImplementedError\u001b[0m: LOLOLOL"
     ]
    }
   ],
   "source": [
    "nodes = []\n",
    "new_node = node.copy()\n",
    "for i in range(400):\n",
    "    new_node = new_node.find_random_child()\n",
    "    nodes.append(new_node)\n"
   ]
  },
  {
   "cell_type": "code",
   "execution_count": 72,
   "metadata": {},
   "outputs": [
    {
     "data": {
      "text/plain": [
       "True"
      ]
     },
     "execution_count": 72,
     "metadata": {},
     "output_type": "execute_result"
    }
   ],
   "source": [
    "new_node.is_terminal()"
   ]
  },
  {
   "cell_type": "code",
   "execution_count": 71,
   "metadata": {},
   "outputs": [
    {
     "name": "stdout",
     "output_type": "stream",
     "text": [
      "_ _ _  _ _ _  _ _ _\n",
      "_ _ _  _ _ _  _ _ _\n",
      "_ _ _  _ _ _  _ _ _\n",
      "\n",
      "_ _ _  _ _ _  _ x _\n",
      "_ _ _  _ _ _  _ _ _\n",
      "_ _ _  _ _ _  _ _ _\n",
      "\n",
      "_ _ _  _ _ _  _ _ _\n",
      "_ _ _  _ _ _  _ _ _\n",
      "_ _ _  _ _ _  _ _ _\n",
      "\n",
      "\n"
     ]
    }
   ],
   "source": [
    "print(nodes[0])"
   ]
  },
  {
   "cell_type": "code",
   "execution_count": 68,
   "metadata": {},
   "outputs": [
    {
     "name": "stdout",
     "output_type": "stream",
     "text": [
      "_ _ _  _ _ _  _ _ _\n",
      "_ _ _  _ _ _  _ _ _\n",
      "_ x _  _ _ _  _ _ _\n",
      "\n",
      "_ _ _  _ _ _  _ _ _\n",
      "_ _ _  _ _ _  _ _ _\n",
      "_ _ _  _ _ _  _ _ _\n",
      "\n",
      "_ _ _  _ _ _  _ _ _\n",
      "_ _ _  _ _ _  _ _ _\n",
      "_ _ _  _ _ _  _ _ _\n",
      "\n",
      "\n"
     ]
    }
   ],
   "source": [
    "print(nodes[-300])"
   ]
  },
  {
   "cell_type": "code",
   "execution_count": null,
   "metadata": {},
   "outputs": [],
   "source": [
    "nodes = []"
   ]
  },
  {
   "cell_type": "code",
   "execution_count": 6,
   "metadata": {},
   "outputs": [],
   "source": [
    "moves = node.legal_moves()\n",
    "nodes.append(node.play(tuple(np.random.default_rng().choice(moves, 1, replace=False, axis = 0)[0])))\n"
   ]
  },
  {
   "cell_type": "code",
   "execution_count": 7,
   "metadata": {},
   "outputs": [
    {
     "data": {
      "text/plain": [
       "True"
      ]
     },
     "execution_count": 7,
     "metadata": {},
     "output_type": "execute_result"
    }
   ],
   "source": [
    "node in nodes\n"
   ]
  },
  {
   "cell_type": "code",
   "execution_count": 8,
   "metadata": {},
   "outputs": [],
   "source": [
    "test = {}\n",
    "test[node] = node.find_children()"
   ]
  },
  {
   "cell_type": "code",
   "execution_count": 9,
   "metadata": {},
   "outputs": [
    {
     "data": {
      "text/plain": [
       "8099196603963300339"
      ]
     },
     "execution_count": 9,
     "metadata": {},
     "output_type": "execute_result"
    }
   ],
   "source": [
    "hash(node)"
   ]
  },
  {
   "cell_type": "code",
   "execution_count": 10,
   "metadata": {},
   "outputs": [
    {
     "name": "stdout",
     "output_type": "stream",
     "text": [
      "3\n"
     ]
    }
   ],
   "source": [
    "print(node.prev_move)"
   ]
  },
  {
   "cell_type": "code",
   "execution_count": 41,
   "metadata": {},
   "outputs": [],
   "source": []
  },
  {
   "cell_type": "code",
   "execution_count": 47,
   "metadata": {},
   "outputs": [
    {
     "name": "stdout",
     "output_type": "stream",
     "text": [
      "[<utt2.UTTNode object at 0x000002544255B760>, <utt2.UTTNode object at 0x000002544255B670>, <utt2.UTTNode object at 0x000002544255B8E0>, <utt2.UTTNode object at 0x000002544255BA00>, <utt2.UTTNode object at 0x000002544255B490>, <utt2.UTTNode object at 0x000002544255B0A0>, <utt2.UTTNode object at 0x000002544255BD30>, <utt2.UTTNode object at 0x000002544255B880>, <utt2.UTTNode object at 0x00000254426CCA00>, <utt2.UTTNode object at 0x000002544255B4F0>, <utt2.UTTNode object at 0x00000254426CCE50>, <utt2.UTTNode object at 0x00000254426CC1C0>, <utt2.UTTNode object at 0x000002544255B9D0>, <utt2.UTTNode object at 0x000002544255BA60>, <utt2.UTTNode object at 0x000002544255B730>, <utt2.UTTNode object at 0x00000254426CC2E0>, <utt2.UTTNode object at 0x00000254426CCD90>, <utt2.UTTNode object at 0x00000254426CC3D0>, <utt2.UTTNode object at 0x00000254426CCB50>, <utt2.UTTNode object at 0x00000254426CC310>, <utt2.UTTNode object at 0x00000254426CC250>, <utt2.UTTNode object at 0x00000254426CCAF0>, <utt2.UTTNode object at 0x00000254426CC8E0>, <utt2.UTTNode object at 0x00000254426CC5E0>, <utt2.UTTNode object at 0x00000254426CC490>, <utt2.UTTNode object at 0x00000254426CC9D0>, <utt2.UTTNode object at 0x00000254426CCCD0>, <utt2.UTTNode object at 0x00000254426CC850>, <utt2.UTTNode object at 0x00000254426CCD60>, <utt2.UTTNode object at 0x00000254426CCBB0>, <utt2.UTTNode object at 0x00000254426CC040>, <utt2.UTTNode object at 0x00000254426CCFD0>, <utt2.UTTNode object at 0x00000254426CCDC0>, <utt2.UTTNode object at 0x00000254426CCD30>, <utt2.UTTNode object at 0x00000254426CC7F0>, <utt2.UTTNode object at 0x00000254426CC790>, <utt2.UTTNode object at 0x00000254426CC5B0>, <utt2.UTTNode object at 0x00000254426CC940>, <utt2.UTTNode object at 0x00000254426CCBE0>, <utt2.UTTNode object at 0x00000254426CCC70>, <utt2.UTTNode object at 0x00000254424F2F10>, <utt2.UTTNode object at 0x00000254426CC910>, <utt2.UTTNode object at 0x00000254426B2610>, <utt2.UTTNode object at 0x00000254426B25B0>, <utt2.UTTNode object at 0x00000254426B2AF0>, <utt2.UTTNode object at 0x00000254426B2460>, <utt2.UTTNode object at 0x00000254426B29D0>, <utt2.UTTNode object at 0x00000254426B2550>, <utt2.UTTNode object at 0x00000254426B2400>, <utt2.UTTNode object at 0x00000254426B2730>, <utt2.UTTNode object at 0x00000254426CCE80>, <utt2.UTTNode object at 0x00000254426CCA30>, <utt2.UTTNode object at 0x00000254426B2C10>, <utt2.UTTNode object at 0x00000254426B2BB0>, <utt2.UTTNode object at 0x00000254426B2A90>, <utt2.UTTNode object at 0x00000254426B2A30>, <utt2.UTTNode object at 0x00000254426B2D00>, <utt2.UTTNode object at 0x00000254426B2E20>, <utt2.UTTNode object at 0x00000254426B2DC0>, <utt2.UTTNode object at 0x00000254426B2FA0>, <utt2.UTTNode object at 0x00000254426B2EB0>, <utt2.UTTNode object at 0x00000254426B2820>, <utt2.UTTNode object at 0x00000254426B2F40>, <utt2.UTTNode object at 0x00000254426B2790>, <utt2.UTTNode object at 0x00000254426B2D60>, <utt2.UTTNode object at 0x00000254426B2CA0>, <utt2.UTTNode object at 0x00000254426B27C0>, <utt2.UTTNode object at 0x00000254426B2880>, <utt2.UTTNode object at 0x00000254426B2670>, <utt2.UTTNode object at 0x00000254426B2940>, <utt2.UTTNode object at 0x00000254426B26D0>, <utt2.UTTNode object at 0x00000254426B2EE0>, <utt2.UTTNode object at 0x00000254426B28E0>, <utt2.UTTNode object at 0x00000254426B24F0>, <utt2.UTTNode object at 0x00000254426B2310>, <utt2.UTTNode object at 0x00000254426B2B50>, <utt2.UTTNode object at 0x00000254426B2370>, <utt2.UTTNode object at 0x00000254426B21F0>, <utt2.UTTNode object at 0x00000254426B2130>, <utt2.UTTNode object at 0x00000254426B2070>, <utt2.UTTNode object at 0x0000025441D55280>, <utt2.UTTNode object at 0x00000254426CC0A0>, <utt2.UTTNode object at 0x00000254426B20D0>, <utt2.UTTNode object at 0x0000025441D550A0>, <utt2.UTTNode object at 0x0000025441D559A0>, <utt2.UTTNode object at 0x00000254426B2190>, <utt2.UTTNode object at 0x0000025441D55400>, <utt2.UTTNode object at 0x0000025441D55AF0>, <utt2.UTTNode object at 0x0000025441D55190>, <utt2.UTTNode object at 0x0000025441D550D0>, <utt2.UTTNode object at 0x00000254426B23D0>, <utt2.UTTNode object at 0x0000025441D55610>, <utt2.UTTNode object at 0x0000025441D55490>, <utt2.UTTNode object at 0x0000025441D553D0>, <utt2.UTTNode object at 0x0000025441D555B0>, <utt2.UTTNode object at 0x00000254426B2250>, <utt2.UTTNode object at 0x0000025441D55310>, <utt2.UTTNode object at 0x0000025442493CD0>, <utt2.UTTNode object at 0x0000025441D55640>, <utt2.UTTNode object at 0x0000025441D554F0>]\n"
     ]
    }
   ],
   "source": [
    "print(nodes)"
   ]
  },
  {
   "cell_type": "code",
   "execution_count": 13,
   "metadata": {},
   "outputs": [
    {
     "data": {
      "text/plain": [
       "(1, 0)"
      ]
     },
     "execution_count": 13,
     "metadata": {},
     "output_type": "execute_result"
    }
   ],
   "source": [
    "tuple(np.random.default_rng().choice(moves, 1, replace=False, axis = 0)[0])"
   ]
  },
  {
   "cell_type": "code",
   "execution_count": 14,
   "metadata": {},
   "outputs": [
    {
     "data": {
      "text/plain": [
       "array([0, 0, 0, 0, 0, 0, 0, 0, 0])"
      ]
     },
     "execution_count": 14,
     "metadata": {},
     "output_type": "execute_result"
    }
   ],
   "source": [
    "node.top_board"
   ]
  },
  {
   "cell_type": "code",
   "execution_count": 15,
   "metadata": {},
   "outputs": [
    {
     "name": "stdout",
     "output_type": "stream",
     "text": [
      "MOVES:  [(0, 0), (0, 1), (0, 2), (0, 3), (0, 4), (0, 5), (0, 6), (0, 7), (0, 8), (1, 0), (1, 1), (1, 2), (1, 3), (1, 4), (1, 5), (1, 6), (1, 7), (1, 8), (2, 0), (2, 1), (2, 2), (2, 3), (2, 4), (2, 5), (2, 6), (2, 7), (2, 8), (3, 0), (3, 1), (3, 2), (3, 3), (3, 4), (3, 5), (3, 6), (3, 7), (3, 8), (4, 0), (4, 1), (4, 2), (4, 3), (4, 4), (4, 5), (4, 6), (4, 7), (4, 8), (5, 0), (5, 1), (5, 2), (5, 3), (5, 4), (5, 5), (5, 6), (5, 7), (5, 8), (6, 0), (6, 1), (6, 2), (6, 3), (6, 4), (6, 5), (6, 6), (6, 7), (6, 8), (7, 0), (7, 1), (7, 2), (7, 3), (7, 4), (7, 5), (7, 6), (7, 7), (7, 8), (8, 0), (8, 1), (8, 2), (8, 3), (8, 4), (8, 5), (8, 6), (8, 7), (8, 8)]\n",
      "_ _ _  _ _ _  _ _ _\n",
      "_ _ _  _ _ _  _ _ _\n",
      "_ _ _  _ _ _  _ _ _\n",
      "\n",
      "_ o _  _ _ _  _ _ _\n",
      "_ _ _  _ _ _  _ _ _\n",
      "_ _ _  _ _ _  _ _ _\n",
      "\n",
      "_ _ x  _ _ _  _ _ _\n",
      "_ _ _  x _ _  _ _ _\n",
      "_ _ _  _ _ _  _ _ _\n",
      "\n",
      "\n"
     ]
    }
   ],
   "source": [
    "\n",
    "print(\"MOVES: \", moves)\n",
    "end = node.play(tuple(np.random.default_rng().choice(moves, 1, replace=False, axis = 0)[0]))\n",
    "while end is None:\n",
    "    moves = node.legal_moves()\n",
    "    end = node.play(tuple(np.random.default_rng().choice(moves, 1, replace=False, axis = 0)[0]))\n",
    "print(node)"
   ]
  },
  {
   "cell_type": "code",
   "execution_count": 16,
   "metadata": {},
   "outputs": [
    {
     "data": {
      "text/plain": [
       "{<utt2.UTTNode at 0x254426cc670>,\n",
       " <utt2.UTTNode at 0x254426cca90>,\n",
       " <utt2.UTTNode at 0x254424f2e80>,\n",
       " <utt2.UTTNode at 0x25442493a90>,\n",
       " <utt2.UTTNode at 0x25442493bb0>,\n",
       " <utt2.UTTNode at 0x25442493ee0>,\n",
       " <utt2.UTTNode at 0x254426cc550>,\n",
       " <utt2.UTTNode at 0x254426cc4f0>,\n",
       " <utt2.UTTNode at 0x254426cc610>}"
      ]
     },
     "execution_count": 16,
     "metadata": {},
     "output_type": "execute_result"
    }
   ],
   "source": [
    "node.find_children()"
   ]
  },
  {
   "cell_type": "code",
   "execution_count": 17,
   "metadata": {},
   "outputs": [
    {
     "name": "stdout",
     "output_type": "stream",
     "text": [
      "_ _ _  _ _ _  _ _ _\n",
      "_ _ _  _ _ _  _ _ _\n",
      "_ _ _  _ _ _  _ _ _\n",
      "\n",
      "_ o _  _ _ _  _ _ _\n",
      "_ _ _  _ _ _  _ _ _\n",
      "_ _ _  _ _ _  _ _ _\n",
      "\n",
      "_ _ x  _ _ _  _ _ _\n",
      "_ _ _  x _ _  _ _ _\n",
      "_ _ _  _ _ _  _ _ _\n",
      "\n",
      "\n"
     ]
    }
   ],
   "source": [
    "print(end)"
   ]
  },
  {
   "cell_type": "code",
   "execution_count": 18,
   "metadata": {},
   "outputs": [
    {
     "data": {
      "text/plain": [
       "array([0, 0, 0, 0, 0, 0, 0, 0, 0])"
      ]
     },
     "execution_count": 18,
     "metadata": {},
     "output_type": "execute_result"
    }
   ],
   "source": [
    "node.bot_boards[1]"
   ]
  },
  {
   "cell_type": "code",
   "execution_count": 19,
   "metadata": {},
   "outputs": [],
   "source": [
    "board = np.array(node.bot_boards[1]).reshape(3,3)"
   ]
  },
  {
   "cell_type": "code",
   "execution_count": 20,
   "metadata": {},
   "outputs": [],
   "source": [
    "WIN_X = np.array([1,1,1])\n",
    "WIN_O = np.array([-1,-1,-1])"
   ]
  },
  {
   "cell_type": "code",
   "execution_count": 21,
   "metadata": {},
   "outputs": [
    {
     "name": "stdout",
     "output_type": "stream",
     "text": [
      "False False False False\n"
     ]
    }
   ],
   "source": [
    "print(np.all(board == WIN_X,axis=0).any(), # 3 in a row horizontally/vertically\n",
    "             np.all(board == WIN_X,axis=1).any(),\n",
    "             np.all(board.diagonal() == WIN_X), # 3 in a row on the diagonal\n",
    "             np.all(np.flipud(board).diagonal()==WIN_X))"
   ]
  }
 ],
 "metadata": {
  "interpreter": {
   "hash": "eae8805b7a60ca00ec391bf13e71294753b9bf81b6b5d55c56d2d16aa9c3e739"
  },
  "kernelspec": {
   "display_name": "Python 3.9.6 64-bit",
   "language": "python",
   "name": "python3"
  },
  "language_info": {
   "codemirror_mode": {
    "name": "ipython",
    "version": 3
   },
   "file_extension": ".py",
   "mimetype": "text/x-python",
   "name": "python",
   "nbconvert_exporter": "python",
   "pygments_lexer": "ipython3",
   "version": "3.9.6"
  },
  "orig_nbformat": 4
 },
 "nbformat": 4,
 "nbformat_minor": 2
}
