{
 "cells": [
  {
   "cell_type": "code",
   "execution_count": 1,
   "metadata": {},
   "outputs": [],
   "source": [
    "import numpy as np\n",
    "a = [i for i in range(9)]"
   ]
  },
  {
   "cell_type": "code",
   "execution_count": 2,
   "metadata": {},
   "outputs": [
    {
     "data": {
      "text/plain": [
       "[(1, 4), (2, 5), (3, 6)]"
      ]
     },
     "execution_count": 2,
     "metadata": {},
     "output_type": "execute_result"
    }
   ],
   "source": [
    "[(a,b) for a,b in zip([1,2,3], [4,5,6])]"
   ]
  },
  {
   "cell_type": "code",
   "execution_count": 3,
   "metadata": {},
   "outputs": [
    {
     "name": "stdout",
     "output_type": "stream",
     "text": [
      "_ _ _  _ _ _  _ _ _\n",
      "_ _ _  _ _ _  _ _ _\n",
      "_ _ _  _ _ _  _ _ _\n",
      "\n",
      "_ _ _  _ _ _  _ _ _\n",
      "_ _ _  _ _ _  _ _ _\n",
      "_ _ _  _ _ _  _ _ _\n",
      "\n",
      "_ _ _  _ _ _  _ _ _\n",
      "_ _ _  _ _ _  _ _ _\n",
      "_ _ _  _ _ _  _ _ _\n"
     ]
    }
   ],
   "source": [
    "from ultimate_tictactoe import UltimateTicTacToe\n",
    "\n",
    "ttt = UltimateTicTacToe()\n",
    "print(str(ttt))"
   ]
  },
  {
   "cell_type": "code",
   "execution_count": 4,
   "metadata": {},
   "outputs": [
    {
     "name": "stdout",
     "output_type": "stream",
     "text": [
      "123\n"
     ]
    }
   ],
   "source": [
    "a = [\"1\",\"2\",\"3\"]\n",
    "print(\"\".join(a[0:3]))"
   ]
  },
  {
   "cell_type": "code",
   "execution_count": 5,
   "metadata": {},
   "outputs": [
    {
     "name": "stdout",
     "output_type": "stream",
     "text": [
      "_ _ _  _ _ _  _ _ _\n",
      "_ _ _  _ _ _  _ _ _\n",
      "_ _ _  _ _ _  _ _ _\n",
      "\n",
      "_ _ _  _ _ _  _ _ _\n",
      "_ _ _  _ _ _  _ _ _\n",
      "_ _ _  _ _ _  _ _ _\n",
      "\n",
      "_ _ _  _ _ _  _ _ _\n",
      "_ _ _  _ _ _  _ _ _\n",
      "_ _ _  _ _ _  _ _ _\n",
      "\n",
      "\n"
     ]
    }
   ],
   "source": [
    "from utt2 import UTTNode\n",
    "node = UTTNode()\n",
    "print(str(node))"
   ]
  },
  {
   "cell_type": "code",
   "execution_count": 6,
   "metadata": {},
   "outputs": [
    {
     "data": {
      "text/plain": [
       "array([0, 0, 0, 0, 0, 0, 0, 0, 0])"
      ]
     },
     "execution_count": 6,
     "metadata": {},
     "output_type": "execute_result"
    }
   ],
   "source": [
    "node.top_board"
   ]
  },
  {
   "cell_type": "code",
   "execution_count": 7,
   "metadata": {},
   "outputs": [
    {
     "name": "stdout",
     "output_type": "stream",
     "text": [
      "None\n"
     ]
    }
   ],
   "source": [
    "print(node.prev_move)"
   ]
  },
  {
   "cell_type": "code",
   "execution_count": 8,
   "metadata": {},
   "outputs": [
    {
     "name": "stdout",
     "output_type": "stream",
     "text": [
      "[(0, 0), (0, 1), (0, 2), (0, 3), (0, 4), (0, 5), (0, 6), (0, 7), (0, 8), (1, 0), (1, 1), (1, 2), (1, 3), (1, 4), (1, 5), (1, 6), (1, 7), (1, 8), (2, 0), (2, 1), (2, 2), (2, 3), (2, 4), (2, 5), (2, 6), (2, 7), (2, 8), (3, 0), (3, 1), (3, 2), (3, 3), (3, 4), (3, 5), (3, 6), (3, 7), (3, 8), (4, 0), (4, 1), (4, 2), (4, 3), (4, 4), (4, 5), (4, 6), (4, 7), (4, 8), (5, 0), (5, 1), (5, 2), (5, 3), (5, 4), (5, 5), (5, 6), (5, 7), (5, 8), (6, 0), (6, 1), (6, 2), (6, 3), (6, 4), (6, 5), (6, 6), (6, 7), (6, 8), (7, 0), (7, 1), (7, 2), (7, 3), (7, 4), (7, 5), (7, 6), (7, 7), (7, 8), (8, 0), (8, 1), (8, 2), (8, 3), (8, 4), (8, 5), (8, 6), (8, 7), (8, 8)]\n"
     ]
    }
   ],
   "source": [
    "moves = node.legal_moves()\n",
    "print(moves)"
   ]
  },
  {
   "cell_type": "code",
   "execution_count": 9,
   "metadata": {},
   "outputs": [
    {
     "data": {
      "text/plain": [
       "(0, 5)"
      ]
     },
     "execution_count": 9,
     "metadata": {},
     "output_type": "execute_result"
    }
   ],
   "source": [
    "tuple(np.random.default_rng().choice(moves, 1, replace=False, axis = 0)[0])"
   ]
  },
  {
   "cell_type": "code",
   "execution_count": 10,
   "metadata": {},
   "outputs": [
    {
     "data": {
      "text/plain": [
       "array([0, 0, 0, 0, 0, 0, 0, 0, 0])"
      ]
     },
     "execution_count": 10,
     "metadata": {},
     "output_type": "execute_result"
    }
   ],
   "source": [
    "node.top_board"
   ]
  },
  {
   "cell_type": "code",
   "execution_count": 11,
   "metadata": {},
   "outputs": [
    {
     "name": "stdout",
     "output_type": "stream",
     "text": [
      "MOVES:  [(0, 0), (0, 1), (0, 2), (0, 3), (0, 4), (0, 5), (0, 6), (0, 7), (0, 8), (1, 0), (1, 1), (1, 2), (1, 3), (1, 4), (1, 5), (1, 6), (1, 7), (1, 8), (2, 0), (2, 1), (2, 2), (2, 3), (2, 4), (2, 5), (2, 6), (2, 7), (2, 8), (3, 0), (3, 1), (3, 2), (3, 3), (3, 4), (3, 5), (3, 6), (3, 7), (3, 8), (4, 0), (4, 1), (4, 2), (4, 3), (4, 4), (4, 5), (4, 6), (4, 7), (4, 8), (5, 0), (5, 1), (5, 2), (5, 3), (5, 4), (5, 5), (5, 6), (5, 7), (5, 8), (6, 0), (6, 1), (6, 2), (6, 3), (6, 4), (6, 5), (6, 6), (6, 7), (6, 8), (7, 0), (7, 1), (7, 2), (7, 3), (7, 4), (7, 5), (7, 6), (7, 7), (7, 8), (8, 0), (8, 1), (8, 2), (8, 3), (8, 4), (8, 5), (8, 6), (8, 7), (8, 8)]\n",
      "x o x  x x x  o o _\n",
      "o x _  _ o _  o _ _\n",
      "_ x x  o o x  o _ _\n",
      "\n",
      "_ x _  o o _  o _ _\n",
      "_ x _  _ o x  _ _ _\n",
      "_ x _  o _ x  o _ _\n",
      "\n",
      "x x _  o x _  o o x\n",
      "x x _  o _ x  _ _ _\n",
      "_ _ x  _ _ o  o x o\n",
      "\n",
      "\n"
     ]
    }
   ],
   "source": [
    "\n",
    "print(\"MOVES: \", moves)\n",
    "end = node.play(tuple(np.random.default_rng().choice(moves, 1, replace=False, axis = 0)[0]))\n",
    "while end is None:\n",
    "    moves = node.legal_moves()\n",
    "    end = node.play(tuple(np.random.default_rng().choice(moves, 1, replace=False, axis = 0)[0]))\n",
    "print(node)"
   ]
  },
  {
   "cell_type": "code",
   "execution_count": 12,
   "metadata": {},
   "outputs": [
    {
     "name": "stdout",
     "output_type": "stream",
     "text": [
      "x o x  x x x  o o _\n",
      "o x _  _ o _  o _ _\n",
      "_ x x  o o x  o _ _\n",
      "\n",
      "_ x _  o o _  o _ _\n",
      "_ x _  _ o x  _ _ _\n",
      "_ x _  o _ x  o _ _\n",
      "\n",
      "x x _  o x _  o o x\n",
      "x x _  o _ x  _ _ _\n",
      "_ _ x  _ _ o  o x o\n",
      "\n",
      "\n"
     ]
    }
   ],
   "source": [
    "print(node)"
   ]
  },
  {
   "cell_type": "code",
   "execution_count": 13,
   "metadata": {},
   "outputs": [
    {
     "name": "stdout",
     "output_type": "stream",
     "text": [
      "-1\n"
     ]
    }
   ],
   "source": [
    "print(end)"
   ]
  },
  {
   "cell_type": "code",
   "execution_count": 14,
   "metadata": {},
   "outputs": [
    {
     "data": {
      "text/plain": [
       "array([ 1,  1,  1,  0, -1,  0, -1, -1,  1])"
      ]
     },
     "execution_count": 14,
     "metadata": {},
     "output_type": "execute_result"
    }
   ],
   "source": [
    "node.bot_boards[1]"
   ]
  },
  {
   "cell_type": "code",
   "execution_count": 15,
   "metadata": {},
   "outputs": [],
   "source": [
    "board = np.array(node.bot_boards[1]).reshape(3,3)"
   ]
  },
  {
   "cell_type": "code",
   "execution_count": 16,
   "metadata": {},
   "outputs": [],
   "source": [
    "WIN_X = np.array([1,1,1])\n",
    "WIN_O = np.array([-1,-1,-1])"
   ]
  },
  {
   "cell_type": "code",
   "execution_count": 17,
   "metadata": {},
   "outputs": [
    {
     "name": "stdout",
     "output_type": "stream",
     "text": [
      "False True False False\n"
     ]
    }
   ],
   "source": [
    "print(np.all(board == WIN_X,axis=0).any(), # 3 in a row horizontally/vertically\n",
    "             np.all(board == WIN_X,axis=1).any(),\n",
    "             np.all(board.diagonal() == WIN_X), # 3 in a row on the diagonal\n",
    "             np.all(np.flipud(board).diagonal()==WIN_X))"
   ]
  }
 ],
 "metadata": {
  "interpreter": {
   "hash": "eae8805b7a60ca00ec391bf13e71294753b9bf81b6b5d55c56d2d16aa9c3e739"
  },
  "kernelspec": {
   "display_name": "Python 3.9.6 64-bit",
   "language": "python",
   "name": "python3"
  },
  "language_info": {
   "codemirror_mode": {
    "name": "ipython",
    "version": 3
   },
   "file_extension": ".py",
   "mimetype": "text/x-python",
   "name": "python",
   "nbconvert_exporter": "python",
   "pygments_lexer": "ipython3",
   "version": "3.9.6"
  },
  "orig_nbformat": 4
 },
 "nbformat": 4,
 "nbformat_minor": 2
}
