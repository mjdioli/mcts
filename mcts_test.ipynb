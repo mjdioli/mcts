{
 "cells": [
  {
   "cell_type": "code",
   "execution_count": 13,
   "metadata": {},
   "outputs": [],
   "source": [
    "from mcts_borrowed import MCTS\n",
    "from utt2 import UTTNode\n",
    "from tqdm import tqdm"
   ]
  },
  {
   "cell_type": "code",
   "execution_count": 14,
   "metadata": {},
   "outputs": [],
   "source": [
    "X = MCTS(5, 1)\n",
    "O = MCTS(5,-1)"
   ]
  },
  {
   "cell_type": "code",
   "execution_count": 15,
   "metadata": {},
   "outputs": [],
   "source": [
    "def play_game(x, o):\n",
    "    board = UTTNode(current_player=1)\n",
    "    #while not board.is_terminal():\n",
    "    for i in range(100):\n",
    "        # You can train as you go, or only at the beginning.\n",
    "        # Here, we train as we go, doing fifty rollouts each turn.\n",
    "        x.do_rollout(board)\n",
    "        board = x.choose(board)\n",
    "        if board.is_terminal():\n",
    "            print(board)\n",
    "            break\n",
    "        o.do_rollout(board)\n",
    "        board = o.choose(board)\n",
    "        if board.is_terminal():\n",
    "            print(board)\n",
    "            break\n",
    "    #print(board)\n",
    "        \n",
    "    #print(board)"
   ]
  },
  {
   "cell_type": "code",
   "execution_count": null,
   "metadata": {},
   "outputs": [],
   "source": []
  },
  {
   "cell_type": "code",
   "execution_count": 16,
   "metadata": {},
   "outputs": [
    {
     "name": "stderr",
     "output_type": "stream",
     "text": [
      " 20%|██        | 1/5 [00:16<01:07, 16.90s/it]"
     ]
    },
    {
     "name": "stdout",
     "output_type": "stream",
     "text": [
      "o x x  o _ _  o o o\n",
      "o o _  o _ _  x _ _\n",
      "_ o o  o _ _  _ x _\n",
      "\n",
      "_ _ _  _ _ x  x x _\n",
      "_ x o  _ o _  _ _ x\n",
      "x o x  o o o  o o x\n",
      "\n",
      "x x _  x x _  x x _\n",
      "_ x o  o x x  _ x _\n",
      "x _ x  x _ o  o o o\n",
      "\n",
      "\n",
      "max:  4 \n",
      " min:  -6\n"
     ]
    },
    {
     "name": "stderr",
     "output_type": "stream",
     "text": [
      " 40%|████      | 2/5 [00:38<00:59, 19.86s/it]"
     ]
    },
    {
     "name": "stdout",
     "output_type": "stream",
     "text": [
      "_ x x  x o _  o _ o\n",
      "_ x o  _ o o  _ x o\n",
      "_ x _  _ o o  _ x o\n",
      "\n",
      "o x o  x x x  o x o\n",
      "x o o  x o x  x o x\n",
      "o o x  x x o  _ _ o\n",
      "\n",
      "o x x  o _ x  x _ x\n",
      "_ o o  x o x  _ o x\n",
      "_ o o  o _ x  x x x\n",
      "\n",
      "\n",
      "max:  5 \n",
      " min:  -6\n"
     ]
    },
    {
     "name": "stderr",
     "output_type": "stream",
     "text": [
      " 60%|██████    | 3/5 [01:02<00:42, 21.50s/it]"
     ]
    },
    {
     "name": "stdout",
     "output_type": "stream",
     "text": [
      "x _ _  x o o  x x o\n",
      "_ x o  x _ _  x x o\n",
      "o _ x  x o x  o o x\n",
      "\n",
      "o o o  _ o _  x x _\n",
      "x _ o  _ _ _  x o x\n",
      "o _ _  o o o  x _ o\n",
      "\n",
      "o x x  o _ _  x x o\n",
      "o _ x  x x o  o x _\n",
      "x x _  o x o  _ x o\n",
      "\n",
      "\n",
      "max:  5 \n",
      " min:  -6\n"
     ]
    },
    {
     "name": "stderr",
     "output_type": "stream",
     "text": [
      " 80%|████████  | 4/5 [01:28<00:23, 23.51s/it]"
     ]
    },
    {
     "name": "stdout",
     "output_type": "stream",
     "text": [
      "x x x  _ x x  o o _\n",
      "o _ x  o x o  o x x\n",
      "x x o  x o o  o o _\n",
      "\n",
      "_ _ _  x o x  x x o\n",
      "_ _ _  o o x  o x _\n",
      "x x x  o x o  o o x\n",
      "\n",
      "o x _  o _ _  o _ x\n",
      "o o _  o o _  _ x x\n",
      "o x _  x o o  _ x x\n",
      "\n",
      "\n",
      "max:  5 \n",
      " min:  -6\n"
     ]
    }
   ],
   "source": [
    "for i in tqdm(range(5)):\n",
    "    play_game(X, O)\n",
    "    print(\"max: \", max(X.Q.values()), \"\\n\",\n",
    "    \"min: \", min(X.Q.values()))"
   ]
  },
  {
   "cell_type": "code",
   "execution_count": null,
   "metadata": {},
   "outputs": [],
   "source": []
  }
 ],
 "metadata": {
  "interpreter": {
   "hash": "eae8805b7a60ca00ec391bf13e71294753b9bf81b6b5d55c56d2d16aa9c3e739"
  },
  "kernelspec": {
   "display_name": "Python 3.9.6 64-bit",
   "language": "python",
   "name": "python3"
  },
  "language_info": {
   "codemirror_mode": {
    "name": "ipython",
    "version": 3
   },
   "file_extension": ".py",
   "mimetype": "text/x-python",
   "name": "python",
   "nbconvert_exporter": "python",
   "pygments_lexer": "ipython3",
   "version": "3.9.6"
  },
  "orig_nbformat": 4
 },
 "nbformat": 4,
 "nbformat_minor": 2
}
