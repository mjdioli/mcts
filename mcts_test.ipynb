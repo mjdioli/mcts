{
 "cells": [
  {
   "cell_type": "code",
   "execution_count": 1,
   "metadata": {},
   "outputs": [],
   "source": [
    "from mcts_borrowed import MCTS\n",
    "from utt2 import UTTNode\n",
    "from tqdm import tqdm"
   ]
  },
  {
   "cell_type": "code",
   "execution_count": 2,
   "metadata": {},
   "outputs": [],
   "source": [
    "X = MCTS(1, 1)\n",
    "O = MCTS(1,-1)"
   ]
  },
  {
   "cell_type": "code",
   "execution_count": 9,
   "metadata": {},
   "outputs": [],
   "source": [
    "def play_game(x, o):\n",
    "    board = UTTNode(current_player=1)\n",
    "    #while not board.is_terminal():\n",
    "    for i in tqdm(range(100)):\n",
    "        # You can train as you go, or only at the beginning.\n",
    "        # Here, we train as we go, doing fifty rollouts each turn.\n",
    "        x.do_rollout(board)\n",
    "        board = x.choose(board)\n",
    "        if board.is_terminal():\n",
    "            print(board)\n",
    "            break\n",
    "        o.do_rollout(board)\n",
    "        board = o.choose(board)\n",
    "        if board.is_terminal():\n",
    "            print(board)\n",
    "            break\n",
    "    #print(board)\n",
    "        \n",
    "    #print(board)"
   ]
  },
  {
   "cell_type": "code",
   "execution_count": 10,
   "metadata": {},
   "outputs": [
    {
     "name": "stderr",
     "output_type": "stream",
     "text": [
      " 34%|███▍      | 34/100 [00:06<00:13,  4.89it/s]"
     ]
    },
    {
     "name": "stdout",
     "output_type": "stream",
     "text": [
      "o o o  x o o  _ _ x\n",
      "o x o  x _ x  _ o _\n",
      "_ _ x  x x _  x x x\n",
      "\n",
      "_ o o  x o x  o x x\n",
      "x o x  x x o  x o o\n",
      "x o o  o o o  o x x\n",
      "\n",
      "x o x  x o o  x o _\n",
      "x o o  x x _  o x o\n",
      "o x x  o o x  o o x\n",
      "\n",
      "\n"
     ]
    },
    {
     "name": "stderr",
     "output_type": "stream",
     "text": [
      "\n"
     ]
    }
   ],
   "source": [
    "play_game(X, O)"
   ]
  },
  {
   "cell_type": "code",
   "execution_count": 12,
   "metadata": {},
   "outputs": [
    {
     "data": {
      "text/plain": [
       "defaultdict(int,\n",
       "            {<utt2.UTTNode at 0x1d4c19b40a0>: 0,\n",
       "             <utt2.UTTNode at 0x1d4c1a20d90>: 0,\n",
       "             <utt2.UTTNode at 0x1d4c1a3e0a0>: 1,\n",
       "             <utt2.UTTNode at 0x1d4c1a3e9d0>: 1,\n",
       "             <utt2.UTTNode at 0x1d4c1a3e8e0>: 3,\n",
       "             <utt2.UTTNode at 0x1d4c1a88280>: -1,\n",
       "             <utt2.UTTNode at 0x1d4c1a884f0>: 3,\n",
       "             <utt2.UTTNode at 0x1d4c1ac3160>: -1,\n",
       "             <utt2.UTTNode at 0x1d4c1ac3790>: 1,\n",
       "             <utt2.UTTNode at 0x1d4c1ac3dc0>: 0,\n",
       "             <utt2.UTTNode at 0x1d4c19b4160>: 3,\n",
       "             <utt2.UTTNode at 0x1d4c1aa0b80>: 1,\n",
       "             <utt2.UTTNode at 0x1d4c19861c0>: 5,\n",
       "             <utt2.UTTNode at 0x1d4c1ae49a0>: 1,\n",
       "             <utt2.UTTNode at 0x1d4c1ae4700>: 0,\n",
       "             <utt2.UTTNode at 0x1d4c1b41100>: 1,\n",
       "             <utt2.UTTNode at 0x1d4c1b41c10>: 1,\n",
       "             <utt2.UTTNode at 0x1d4c1b22ca0>: -1,\n",
       "             <utt2.UTTNode at 0x1d4c1b22f10>: 1,\n",
       "             <utt2.UTTNode at 0x1d4c1b22ac0>: 1,\n",
       "             <utt2.UTTNode at 0x1d4c1aa0130>: -1,\n",
       "             <utt2.UTTNode at 0x1d4c1aa0c10>: 0,\n",
       "             <utt2.UTTNode at 0x1d4c1ae4f70>: -1,\n",
       "             <utt2.UTTNode at 0x1d4c1ae4a30>: 1,\n",
       "             <utt2.UTTNode at 0x1d4c1ae4640>: 1,\n",
       "             <utt2.UTTNode at 0x1d4c1c03a30>: 1,\n",
       "             <utt2.UTTNode at 0x1d4c1c03a60>: 2,\n",
       "             <utt2.UTTNode at 0x1d4c1c034c0>: 0,\n",
       "             <utt2.UTTNode at 0x1d4c1c46460>: 2,\n",
       "             <utt2.UTTNode at 0x1d4c1c462b0>: 0,\n",
       "             <utt2.UTTNode at 0x1d4c1c79d30>: 1,\n",
       "             <utt2.UTTNode at 0x1d4c1c79400>: -1,\n",
       "             <utt2.UTTNode at 0x1d4c1c79e80>: 2,\n",
       "             <utt2.UTTNode at 0x1d4c1c835b0>: -1,\n",
       "             <utt2.UTTNode at 0x1d4c1c83ee0>: -1,\n",
       "             <utt2.UTTNode at 0x1d4c1c83c40>: 1,\n",
       "             <utt2.UTTNode at 0x1d4c1cef8e0>: 3,\n",
       "             <utt2.UTTNode at 0x1d4c1cef3a0>: -1,\n",
       "             <utt2.UTTNode at 0x1d4c1c9bc10>: 3,\n",
       "             <utt2.UTTNode at 0x1d4c1c9b970>: -1,\n",
       "             <utt2.UTTNode at 0x1d4c1c9b250>: 0,\n",
       "             <utt2.UTTNode at 0x1d4c1c9e100>: 0,\n",
       "             <utt2.UTTNode at 0x1d4c1c9e6a0>: 3,\n",
       "             <utt2.UTTNode at 0x1d4c1c9ef70>: -1,\n",
       "             <utt2.UTTNode at 0x1d4c1056fd0>: 2,\n",
       "             <utt2.UTTNode at 0x1d4c1056310>: 0,\n",
       "             <utt2.UTTNode at 0x1d4c109ce20>: 2,\n",
       "             <utt2.UTTNode at 0x1d4c10c2f10>: -1,\n",
       "             <utt2.UTTNode at 0x1d4c10c2bb0>: 1,\n",
       "             <utt2.UTTNode at 0x1d4c110c460>: -1,\n",
       "             <utt2.UTTNode at 0x1d4c113f130>: -1,\n",
       "             <utt2.UTTNode at 0x1d4c113f460>: 1,\n",
       "             <utt2.UTTNode at 0x1d4c113fac0>: 0,\n",
       "             <utt2.UTTNode at 0x1d4c1d5d400>: 0,\n",
       "             <utt2.UTTNode at 0x1d4c1d5da60>: 0,\n",
       "             <utt2.UTTNode at 0x1d4c10057c0>: 0,\n",
       "             <utt2.UTTNode at 0x1d4c1005cd0>: 2,\n",
       "             <utt2.UTTNode at 0x1d4c1005c40>: 0,\n",
       "             <utt2.UTTNode at 0x1d4c101e850>: 1,\n",
       "             <utt2.UTTNode at 0x1d4c101ea60>: 0,\n",
       "             <utt2.UTTNode at 0x1d4c101ea30>: 0,\n",
       "             <utt2.UTTNode at 0x1d4cfe18a60>: 0,\n",
       "             <utt2.UTTNode at 0x1d4cfe2a850>: 0,\n",
       "             <utt2.UTTNode at 0x1d4cfe2a640>: 1,\n",
       "             <utt2.UTTNode at 0x1d4cfe37760>: 2,\n",
       "             <utt2.UTTNode at 0x1d4cfe3e460>: 0,\n",
       "             <utt2.UTTNode at 0x1d4cfe3efd0>: 1,\n",
       "             <utt2.UTTNode at 0x1d4cfe49940>: 0,\n",
       "             <utt2.UTTNode at 0x1d4cfe63340>: 2,\n",
       "             <utt2.UTTNode at 0x1d4cfe63ac0>: 0,\n",
       "             <utt2.UTTNode at 0x1d4cfe63d30>: 0,\n",
       "             <utt2.UTTNode at 0x1d4cfe69880>: 0,\n",
       "             <utt2.UTTNode at 0x1d4cfe7c400>: 1,\n",
       "             <utt2.UTTNode at 0x1d4cfe7cdc0>: 0,\n",
       "             <utt2.UTTNode at 0x1d4cfe89190>: 1,\n",
       "             <utt2.UTTNode at 0x1d4cfe89370>: 1,\n",
       "             <utt2.UTTNode at 0x1d4cfe895e0>: 1,\n",
       "             <utt2.UTTNode at 0x1d4cfe896a0>: 0,\n",
       "             <utt2.UTTNode at 0x1d4c1aa0520>: 1,\n",
       "             <utt2.UTTNode at 0x1d4c1aa0580>: 0,\n",
       "             <utt2.UTTNode at 0x1d4c1ae4d60>: -1,\n",
       "             <utt2.UTTNode at 0x1d4c1ae4bb0>: 0,\n",
       "             <utt2.UTTNode at 0x1d4c1c03d00>: -1,\n",
       "             <utt2.UTTNode at 0x1d4c1c03dc0>: 1,\n",
       "             <utt2.UTTNode at 0x1d4c1c03280>: 0,\n",
       "             <utt2.UTTNode at 0x1d4cfe99d60>: 1,\n",
       "             <utt2.UTTNode at 0x1d4cfe99e80>: 1,\n",
       "             <utt2.UTTNode at 0x1d4cfe99070>: 1,\n",
       "             <utt2.UTTNode at 0x1d4cfeb0250>: 0,\n",
       "             <utt2.UTTNode at 0x1d4cfed6be0>: 0,\n",
       "             <utt2.UTTNode at 0x1d4cfed69a0>: 2,\n",
       "             <utt2.UTTNode at 0x1d4cfed6d30>: 0,\n",
       "             <utt2.UTTNode at 0x1d4cfeedf10>: 2,\n",
       "             <utt2.UTTNode at 0x1d4cfeeda30>: -1,\n",
       "             <utt2.UTTNode at 0x1d4cfeed880>: 3,\n",
       "             <utt2.UTTNode at 0x1d4cfef0b80>: -1,\n",
       "             <utt2.UTTNode at 0x1d4cfef02b0>: 1,\n",
       "             <utt2.UTTNode at 0x1d4cfeed910>: 1,\n",
       "             <utt2.UTTNode at 0x1d4cfef7970>: 1,\n",
       "             <utt2.UTTNode at 0x1d4cfef71c0>: 0,\n",
       "             <utt2.UTTNode at 0x1d4d0ee0070>: 2,\n",
       "             <utt2.UTTNode at 0x1d4d0ee0f40>: -1,\n",
       "             <utt2.UTTNode at 0x1d4d0ee0eb0>: 1,\n",
       "             <utt2.UTTNode at 0x1d4d0ee0340>: 1,\n",
       "             <utt2.UTTNode at 0x1d4d0efc430>: 1,\n",
       "             <utt2.UTTNode at 0x1d4d0efc940>: 0,\n",
       "             <utt2.UTTNode at 0x1d4d0f040d0>: 2,\n",
       "             <utt2.UTTNode at 0x1d4d0f04d00>: 0,\n",
       "             <utt2.UTTNode at 0x1d4d0f04910>: -1,\n",
       "             <utt2.UTTNode at 0x1d4d0f042b0>: 1,\n",
       "             <utt2.UTTNode at 0x1d4d0f046a0>: 1,\n",
       "             <utt2.UTTNode at 0x1d4d0f16040>: 1,\n",
       "             <utt2.UTTNode at 0x1d4d0f16640>: 3,\n",
       "             <utt2.UTTNode at 0x1d4d0f169a0>: -1,\n",
       "             <utt2.UTTNode at 0x1d4d0f20d90>: 3,\n",
       "             <utt2.UTTNode at 0x1d4d0f20a90>: -1,\n",
       "             <utt2.UTTNode at 0x1d4d0f16670>: 2,\n",
       "             <utt2.UTTNode at 0x1d4d0f205b0>: 0,\n",
       "             <utt2.UTTNode at 0x1d4d0f28610>: -1,\n",
       "             <utt2.UTTNode at 0x1d4d0f28130>: 1,\n",
       "             <utt2.UTTNode at 0x1d4d0f28880>: 3,\n",
       "             <utt2.UTTNode at 0x1d4d0f28e20>: -1,\n",
       "             <utt2.UTTNode at 0x1d4d0f28f40>: 3,\n",
       "             <utt2.UTTNode at 0x1d4d0f260a0>: -1,\n",
       "             <utt2.UTTNode at 0x1d4d0f26250>: 1,\n",
       "             <utt2.UTTNode at 0x1d4d0f50100>: 1,\n",
       "             <utt2.UTTNode at 0x1d4d0f5f070>: 1,\n",
       "             <utt2.UTTNode at 0x1d4d0f50d90>: 1,\n",
       "             <utt2.UTTNode at 0x1d4d0f6fe50>: 1,\n",
       "             <utt2.UTTNode at 0x1d4d0f6ff70>: 1,\n",
       "             <utt2.UTTNode at 0x1d4d0f6f400>: 1,\n",
       "             <utt2.UTTNode at 0x1d4d0f80160>: 1,\n",
       "             <utt2.UTTNode at 0x1d4d0f80a90>: 0,\n",
       "             <utt2.UTTNode at 0x1d4d0f80eb0>: 1,\n",
       "             <utt2.UTTNode at 0x1d4d0f8a580>: 2,\n",
       "             <utt2.UTTNode at 0x1d4d0f99040>: 0,\n",
       "             <utt2.UTTNode at 0x1d4d0f993a0>: 1,\n",
       "             <utt2.UTTNode at 0x1d4d0f99ee0>: 1,\n",
       "             <utt2.UTTNode at 0x1d4d0fa7580>: 2,\n",
       "             <utt2.UTTNode at 0x1d4d0fa76a0>: 0,\n",
       "             <utt2.UTTNode at 0x1d4d0fb65b0>: 0,\n",
       "             <utt2.UTTNode at 0x1d4d0fb6910>: 1,\n",
       "             <utt2.UTTNode at 0x1d4d0fb63a0>: 2,\n",
       "             <utt2.UTTNode at 0x1d4d0fb6d60>: 0,\n",
       "             <utt2.UTTNode at 0x1d4d0fc52e0>: 2,\n",
       "             <utt2.UTTNode at 0x1d4d0fc5400>: 0,\n",
       "             <utt2.UTTNode at 0x1d4d0fc5af0>: 1,\n",
       "             <utt2.UTTNode at 0x1d4d0fc5c10>: 0})"
      ]
     },
     "execution_count": 12,
     "metadata": {},
     "output_type": "execute_result"
    }
   ],
   "source": [
    "O.Q"
   ]
  },
  {
   "cell_type": "code",
   "execution_count": null,
   "metadata": {},
   "outputs": [],
   "source": []
  }
 ],
 "metadata": {
  "interpreter": {
   "hash": "eae8805b7a60ca00ec391bf13e71294753b9bf81b6b5d55c56d2d16aa9c3e739"
  },
  "kernelspec": {
   "display_name": "Python 3.9.6 64-bit",
   "language": "python",
   "name": "python3"
  },
  "language_info": {
   "codemirror_mode": {
    "name": "ipython",
    "version": 3
   },
   "file_extension": ".py",
   "mimetype": "text/x-python",
   "name": "python",
   "nbconvert_exporter": "python",
   "pygments_lexer": "ipython3",
   "version": "3.9.6"
  },
  "orig_nbformat": 4
 },
 "nbformat": 4,
 "nbformat_minor": 2
}
